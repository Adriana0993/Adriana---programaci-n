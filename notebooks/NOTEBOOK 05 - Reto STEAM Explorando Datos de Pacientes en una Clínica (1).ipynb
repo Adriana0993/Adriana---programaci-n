{
 "cells": [
  {
   "cell_type": "markdown",
   "metadata": {},
   "source": [
    "# Reto Bootcamp STEAM 🔬💻🎨: Explorando Datos de Pacientes\n",
    "## Fundamentos de Python | UMCA\n",
    "## Profesor: Ing. Andrés Mena Abarca\n",
    "### <mark>**Nombre del estudiante:**</mark>\n",
    "* * *"
   ]
  },
  {
   "attachments": {},
   "cell_type": "markdown",
   "metadata": {},
   "source": [
    "## Misión: Científico de Datos Clínicos\n",
    "\n",
    "¡Bienvenidos al reto STEAM! Nuestra misión hoy es construir un sistema de análisis de datos para una clínica, subiendo el nivel de dificultad paso a paso.\n",
    "\n",
    "Comenzaremos con la práctica esencial de **ciclos y listas** y progresaremos hasta el manejo de estructuras de datos complejas (JSON y diccionarios). Si la base es sólida, ¡el análisis avanzado será fácil!\n",
    "\n",
    "### Objetivos de Programación:\n",
    "1. Dominar el uso del ciclo `for` con listas básicas.\n",
    "2. Comprender y cargar el formato **JSON** en Python.\n",
    "3. Implementar **bucles anidados** para datos complejos.\n",
    "4. Aplicar lógica condicional (`if`) y manejo de listas (`.append()`, `.index()`) en todos los niveles."
   ]
  },
  {
   "cell_type": "markdown",
   "metadata": {},
   "source": [
    "--- \n",
    "## FASE 1: Fundamentos de Ciclos y Listas (Nivel Básico) 👶\n",
    "\n",
    "Antes de trabajar con la base de datos completa, vamos a practicar con una simple lista de provincias. Recuerda que un ciclo `for` es una de las herramientas más poderosas de Python."
   ]
  },
  {
   "cell_type": "code",
   "execution_count": 22,
   "metadata": {
    "language": "python"
   },
   "outputs": [],
   "source": [
    "# Datos simples para empezar a practicar ciclos\n",
    "provincias_visitas = [\"San Jose\", \"Heredia\", \"Alajuela\", \"San Jose\", \"Cartago\", \"Heredia\", \"San Jose\", \"Puntarenas\"]\n"
   ]
  },
  {
   "cell_type": "markdown",
   "metadata": {},
   "source": [
    "### Desafío 1.A: Mostrar el Recorrido (Ciclo Simple)\n",
    "\n",
    "**Instrucción:** Usa un ciclo `for` para recorrer la lista `provincias_visitas` e imprime un mensaje por cada provincia.\n",
    "\n",
    "**Salida Esperada (parcial):**\n",
    "```\n",
    "Analizando visita en San Jose\n",
    "Analizando visita en Heredia\n",
    "..."
   ]
  },
  {
   "cell_type": "code",
   "execution_count": 23,
   "metadata": {},
   "outputs": [
    {
     "ename": "NameError",
     "evalue": "name 'provincias_visitadas' is not defined",
     "output_type": "error",
     "traceback": [
      "\u001b[31m---------------------------------------------------------------------------\u001b[39m",
      "\u001b[31mNameError\u001b[39m                                 Traceback (most recent call last)",
      "\u001b[36mCell\u001b[39m\u001b[36m \u001b[39m\u001b[32mIn[23]\u001b[39m\u001b[32m, line 2\u001b[39m\n\u001b[32m      1\u001b[39m \u001b[38;5;66;03m# Escribe tu código aquí para el Desafío 1.A\u001b[39;00m\n\u001b[32m----> \u001b[39m\u001b[32m2\u001b[39m \u001b[38;5;28;01mfor\u001b[39;00m provincia \u001b[38;5;129;01min\u001b[39;00m \u001b[43mprovincias_visitadas\u001b[49m:\n\u001b[32m      3\u001b[39m     \u001b[38;5;28mprint\u001b[39m(\u001b[33mf\u001b[39m\u001b[33m\"\u001b[39m\u001b[33manalizandovisitas en: \u001b[39m\u001b[38;5;132;01m{\u001b[39;00mprovincia\u001b[38;5;132;01m}\u001b[39;00m\u001b[33m\"\u001b[39m)\n",
      "\u001b[31mNameError\u001b[39m: name 'provincias_visitadas' is not defined"
     ]
    }
   ],
   "source": [
    "# Escribe tu código aquí para el Desafío 1.A\n",
    "for provincia in provincias_visitadas:\n",
    "    print(f\"analizandovisitas en: {provincia}\")\n",
    "    "
   ]
  },
  {
   "cell_type": "markdown",
   "metadata": {},
   "source": [
    "### Desafío 1.B: Conteo con Condicionales (Ciclo + IF)\n",
    "\n",
    "**Instrucción:** Crea una variable `conteo_san_jose` e inicialízala en cero. Usa el ciclo `for` para recorrer la lista y un condicional `if` para incrementar el contador solo cuando la provincia sea \"San Jose\".\n",
    "\n",
    "**Salida Esperada:**\n",
    "```\n",
    "El número total de visitas en San Jose es: 3\n",
    "```"
   ]
  },
  {
   "cell_type": "code",
   "execution_count": null,
   "metadata": {},
   "outputs": [
    {
     "ename": "",
     "evalue": "",
     "output_type": "error",
     "traceback": [
      "\u001b[1;31mFailed to start the Kernel. \n",
      "\u001b[1;31mUnable to start Kernel 'Python 3.13.7' due to a timeout waiting for the ports to get used. \n",
      "\u001b[1;31mView Jupyter <a href='command:jupyter.viewOutput'>log</a> for further details."
     ]
    }
   ],
   "source": [
    "# Escribe tu código aquí para el Desafío 1.B\n",
    "conteo_san_jose = 0 \n",
    "for provincia in provincias_visitadas:\n",
    "    if provincia == \"San Jose\":\n",
    "        conteo_san_jose += 1\n",
    "print(f\"El total de visitas a San Jose es: {conteo_san_jose}\")"
   ]
  },
  {
   "cell_type": "markdown",
   "metadata": {},
   "source": [
    "--- \n",
    "## FASE 2: Estructuras Avanzadas (JSON y Diccionarios) 🎓\n",
    "\n",
    "Ahora que dominas los ciclos básicos, vamos a subir al nivel de datos profesionales. Nuestra base de datos está en formato **JSON**.\n",
    "\n",
    "**Recordatorio:** En Python, los objetos JSON se convierten en **Diccionarios** (`{}`) y son la clave para el análisis moderno.\n",
    "**Acceso a datos:** Usarás `paciente['clave']`."
   ]
  },
  {
   "cell_type": "code",
   "execution_count": null,
   "metadata": {
    "language": "python"
   },
   "outputs": [
    {
     "name": "stdout",
     "output_type": "stream",
     "text": [
      "archivo cargado correctamente, total de regitros: 15\n",
      "/nEstuctura de datos pacientes:\n",
      "{'cedula': 89076541, 'nombre': 'Ana Gómez', 'edad': 34, 'genero': 'F', 'provincia': 'Heredia', 'canton': 'Barva', 'enfermedades': ['migraña', 'gripe'], 'medicamentos': ['acetaminofen', 'ibuprofeno']}\n"
     ]
    }
   ],
   "source": [
    "import json\n",
    "\n",
    "# ¡Asegúrate de tener el archivo 'datos_clinica.json' en la misma carpeta!\n",
    "nombre_archivo = 'datos_clinica.json' \n",
    "datos_pacientes = []\n",
    "\n",
    "try:\n",
    "    #CODIGO LEER ARCHIVO\n",
    "    with open(nombre_archivo,'r', encoding= 'utf8') as f:\n",
    "        datos_pacientes =json.load(f)\n",
    "    print(F\"archivo cargado correctamente, total de regitros: {len(datos_pacientes)}\")\n",
    "    print('/nEstuctura de datos pacientes:')\n",
    "    print(datos_pacientes[0])  \n",
    "except FileNotFoundError:\n",
    "    print(f\"❌ Error: No se encontró el archivo '{nombre_archivo}'. ¡No puedes continuar!\")\n",
    "except Exception as e:\n",
    "    print(f\"❌ Ocurrió un error al leer el archivo: {e}\")"
   ]
  },
  {
   "cell_type": "markdown",
   "metadata": {},
   "source": [
    "### Desafío 2.A: Primer Contacto con Diccionarios\n",
    "\n",
    "**Instrucción:** Usa un ciclo `for` para recorrer los primeros **tres pacientes** de la lista `datos_pacientes`. Por cada paciente, imprime su nombre y edad usando las claves `'nombre'` y `'edad'`.\n",
    "\n",
    "**Pista:** Puedes usar `datos_pacientes[:3]` para limitar la iteración a los primeros tres elementos.\n",
    "\n",
    "**Salida Esperada (parcial):**\n",
    "```\n",
    "Paciente: Ana Gómez, Edad: 34\n",
    "Paciente: Luis Mora, Edad: 45\n",
    "..."
   ]
  },
  {
   "cell_type": "code",
   "execution_count": 25,
   "metadata": {},
   "outputs": [
    {
     "name": "stdout",
     "output_type": "stream",
     "text": [
      "[{'cedula': 89076541, 'nombre': 'Ana Gómez', 'edad': 34, 'genero': 'F', 'provincia': 'Heredia', 'canton': 'Barva', 'enfermedades': ['migraña', 'gripe'], 'medicamentos': ['acetaminofen', 'ibuprofeno']}, {'cedula': 31321321, 'nombre': 'Luis Mora', 'edad': 45, 'genero': 'M', 'provincia': 'Cartago', 'canton': 'Pacayas', 'enfermedades': ['gastritis'], 'medicamentos': ['antiacido', 'omeprazol']}, {'cedula': 87539856, 'nombre': 'Sofía Salas', 'edad': 29, 'genero': 'F', 'provincia': 'San Jose', 'canton': 'Pavas', 'enfermedades': ['tos cronica', 'alergia'], 'medicamentos': ['jarabe', 'loratadina']}, {'cedula': 45522221, 'nombre': 'Carlos Rojas', 'edad': 50, 'genero': 'M', 'provincia': 'Limón', 'canton': 'Puerto Viejo', 'enfermedades': ['migraña', 'hipertension'], 'medicamentos': ['acetaminofen', 'losartan']}, {'cedula': 45354632, 'nombre': 'Elena Castro', 'edad': 62, 'genero': 'F', 'provincia': 'Guanacaste', 'canton': 'Liberia', 'enfermedades': ['dolor cronico', 'gripe'], 'medicamentos': ['acetaminofen', 'tramadol']}, {'cedula': 112233445, 'nombre': 'David Solano', 'edad': 38, 'genero': 'M', 'provincia': 'San Jose', 'canton': 'Desamparados', 'enfermedades': ['diabetes tipo 2'], 'medicamentos': ['insulina', 'metformina']}, {'cedula': 223344556, 'nombre': 'Laura Méndez', 'edad': 55, 'genero': 'F', 'provincia': 'Alajuela', 'canton': 'San Ramón', 'enfermedades': ['artritis', 'hipertension'], 'medicamentos': ['ibuprofeno', 'losartan']}, {'cedula': 334455667, 'nombre': 'Miguel Pérez', 'edad': 22, 'genero': 'M', 'provincia': 'Heredia', 'canton': 'Santo Domingo', 'enfermedades': ['asma'], 'medicamentos': ['salbutamol']}, {'cedula': 445566778, 'nombre': 'Carmen Ruiz', 'edad': 48, 'genero': 'F', 'provincia': 'Cartago', 'canton': 'Tres Ríos', 'enfermedades': ['diabetes tipo 2', 'colesterol alto'], 'medicamentos': ['metformina', 'atorvastatina']}, {'cedula': 556677889, 'nombre': 'Jorge Alfaro', 'edad': 70, 'genero': 'M', 'provincia': 'Puntarenas', 'canton': 'Cóbano', 'enfermedades': ['hipertension'], 'medicamentos': ['losartan']}, {'cedula': 667788990, 'nombre': 'Isabel Solís', 'edad': 31, 'genero': 'F', 'provincia': 'San Jose', 'canton': 'Moravia', 'enfermedades': ['migraña', 'ansiedad'], 'medicamentos': ['acetaminofen', 'fluoxetina']}, {'cedula': 778899001, 'nombre': 'Roberto Arias', 'edad': 65, 'genero': 'M', 'provincia': 'Guanacaste', 'canton': 'Nicoya', 'enfermedades': ['artritis'], 'medicamentos': ['ibuprofeno']}, {'cedula': 889900112, 'nombre': 'Patricia Mora', 'edad': 28, 'genero': 'F', 'provincia': 'Alajuela', 'canton': 'Grecia', 'enfermedades': ['alergia', 'asma'], 'medicamentos': ['loratadina', 'salbutamol']}, {'cedula': 990011223, 'nombre': 'Andrés Vargas', 'edad': 42, 'genero': 'M', 'provincia': 'San Jose', 'canton': 'Curridabat', 'enfermedades': ['gastritis'], 'medicamentos': ['omeprazol']}, {'cedula': 123456789, 'nombre': 'Gabriela Soto', 'edad': 59, 'genero': 'F', 'provincia': 'Limón', 'canton': 'Siquirres', 'enfermedades': ['colesterol alto'], 'medicamentos': ['atorvastatina']}]\n",
      "Paciente: Ana Gómez, Edad: 34 años\n",
      "Paciente: Luis Mora, Edad: 45 años\n",
      "Paciente: Sofía Salas, Edad: 29 años\n"
     ]
    }
   ],
   "source": [
    "# Escribe tu código aquí para el Desafío 2.A\n",
    "print(datos_pacientes)\n",
    "for paciente in datos_pacientes [:3]:\n",
    "    nombre = paciente[\"nombre\"]\n",
    "    edad = paciente[\"edad\"]\n",
    "    print(f\"Paciente: {nombre}, Edad: {edad} años\")"
   ]
  },
  {
   "cell_type": "code",
   "execution_count": 26,
   "metadata": {},
   "outputs": [
    {
     "name": "stdout",
     "output_type": "stream",
     "text": [
      "[{'cedula': 89076541, 'nombre': 'Ana Gómez', 'edad': 34, 'genero': 'F', 'provincia': 'Heredia', 'canton': 'Barva', 'enfermedades': ['migraña', 'gripe'], 'medicamentos': ['acetaminofen', 'ibuprofeno']}, {'cedula': 31321321, 'nombre': 'Luis Mora', 'edad': 45, 'genero': 'M', 'provincia': 'Cartago', 'canton': 'Pacayas', 'enfermedades': ['gastritis'], 'medicamentos': ['antiacido', 'omeprazol']}, {'cedula': 87539856, 'nombre': 'Sofía Salas', 'edad': 29, 'genero': 'F', 'provincia': 'San Jose', 'canton': 'Pavas', 'enfermedades': ['tos cronica', 'alergia'], 'medicamentos': ['jarabe', 'loratadina']}, {'cedula': 45522221, 'nombre': 'Carlos Rojas', 'edad': 50, 'genero': 'M', 'provincia': 'Limón', 'canton': 'Puerto Viejo', 'enfermedades': ['migraña', 'hipertension'], 'medicamentos': ['acetaminofen', 'losartan']}, {'cedula': 45354632, 'nombre': 'Elena Castro', 'edad': 62, 'genero': 'F', 'provincia': 'Guanacaste', 'canton': 'Liberia', 'enfermedades': ['dolor cronico', 'gripe'], 'medicamentos': ['acetaminofen', 'tramadol']}, {'cedula': 112233445, 'nombre': 'David Solano', 'edad': 38, 'genero': 'M', 'provincia': 'San Jose', 'canton': 'Desamparados', 'enfermedades': ['diabetes tipo 2'], 'medicamentos': ['insulina', 'metformina']}, {'cedula': 223344556, 'nombre': 'Laura Méndez', 'edad': 55, 'genero': 'F', 'provincia': 'Alajuela', 'canton': 'San Ramón', 'enfermedades': ['artritis', 'hipertension'], 'medicamentos': ['ibuprofeno', 'losartan']}, {'cedula': 334455667, 'nombre': 'Miguel Pérez', 'edad': 22, 'genero': 'M', 'provincia': 'Heredia', 'canton': 'Santo Domingo', 'enfermedades': ['asma'], 'medicamentos': ['salbutamol']}, {'cedula': 445566778, 'nombre': 'Carmen Ruiz', 'edad': 48, 'genero': 'F', 'provincia': 'Cartago', 'canton': 'Tres Ríos', 'enfermedades': ['diabetes tipo 2', 'colesterol alto'], 'medicamentos': ['metformina', 'atorvastatina']}, {'cedula': 556677889, 'nombre': 'Jorge Alfaro', 'edad': 70, 'genero': 'M', 'provincia': 'Puntarenas', 'canton': 'Cóbano', 'enfermedades': ['hipertension'], 'medicamentos': ['losartan']}, {'cedula': 667788990, 'nombre': 'Isabel Solís', 'edad': 31, 'genero': 'F', 'provincia': 'San Jose', 'canton': 'Moravia', 'enfermedades': ['migraña', 'ansiedad'], 'medicamentos': ['acetaminofen', 'fluoxetina']}, {'cedula': 778899001, 'nombre': 'Roberto Arias', 'edad': 65, 'genero': 'M', 'provincia': 'Guanacaste', 'canton': 'Nicoya', 'enfermedades': ['artritis'], 'medicamentos': ['ibuprofeno']}, {'cedula': 889900112, 'nombre': 'Patricia Mora', 'edad': 28, 'genero': 'F', 'provincia': 'Alajuela', 'canton': 'Grecia', 'enfermedades': ['alergia', 'asma'], 'medicamentos': ['loratadina', 'salbutamol']}, {'cedula': 990011223, 'nombre': 'Andrés Vargas', 'edad': 42, 'genero': 'M', 'provincia': 'San Jose', 'canton': 'Curridabat', 'enfermedades': ['gastritis'], 'medicamentos': ['omeprazol']}, {'cedula': 123456789, 'nombre': 'Gabriela Soto', 'edad': 59, 'genero': 'F', 'provincia': 'Limón', 'canton': 'Siquirres', 'enfermedades': ['colesterol alto'], 'medicamentos': ['atorvastatina']}]\n",
      "Paciente: Ana Gómez, Edad: 34 años\n",
      "Paciente: Luis Mora, Edad: 45 años\n",
      "Paciente: Sofía Salas, Edad: 29 años\n"
     ]
    }
   ],
   "source": [
    "print(datos_pacientes)\n",
    "for paciente in datos_pacientes [:3]:\n",
    "    nombre = paciente[\"nombre\"]\n",
    "    edad = paciente[\"edad\"]\n",
    "    print(f\"Paciente: {nombre}, Edad: {edad} años\")"
   ]
  },
  {
   "cell_type": "markdown",
   "metadata": {},
   "source": [
    "--- \n",
    "## FASE 3: Análisis de Frecuencias (Bucles Anidados) 🔬\n",
    "\n",
    "¡Nivel intermedio! Ahora debes usar tus conocimientos de ciclos y condicionales para contar elementos. La complejidad es que tienes una **Lista de enfermedades dentro de un Diccionario**.\n",
    "\n",
    "**El reto es:** Usar un ciclo `for` para pacientes, y otro ciclo `for` **anidado** para las enfermedades."
   ]
  },
  {
   "attachments": {},
   "cell_type": "markdown",
   "metadata": {
    "language": "python"
   },
   "source": [
    "### Desafío 3.A: Reporte de Enfermedades Tratadas (Doble Ciclo)\n",
    "\n",
    "**Instrucciones:**\n",
    "1. Crea una lista vacía para enfermedades (`lista_enfermedades`) y otra para las cantidades (`lista_cantidades`).\n",
    "2. Usa un ciclo `for` para recorrer cada `paciente`.\n",
    "3. Usa un ciclo `for` **anidado** para recorrer la lista `paciente['enfermedades']`.\n",
    "4. Dentro del ciclo anidado, aplica la lógica de conteo (`if...in`, `.index()`, `+= 1`)."
   ]
  },
  {
   "cell_type": "code",
   "execution_count": 27,
   "metadata": {
    "language": "python"
   },
   "outputs": [
    {
     "name": "stdout",
     "output_type": "stream",
     "text": [
      "['migraña', 'gripe']\n",
      "['gastritis']\n",
      "['tos cronica', 'alergia']\n",
      "['migraña', 'hipertension']\n",
      "['dolor cronico', 'gripe']\n",
      "['diabetes tipo 2']\n",
      "['artritis', 'hipertension']\n",
      "['asma']\n",
      "['diabetes tipo 2', 'colesterol alto']\n",
      "['hipertension']\n",
      "['migraña', 'ansiedad']\n",
      "['artritis']\n",
      "['alergia', 'asma']\n",
      "['gastritis']\n",
      "['colesterol alto']\n",
      "['migraña', 'gripe', 'gastritis', 'tos cronica', 'alergia', 'hipertension', 'dolor cronico', 'diabetes tipo 2', 'artritis', 'asma', 'colesterol alto', 'ansiedad']\n",
      "[3, 2, 2, 1, 2, 3, 1, 2, 2, 2, 2, 1]\n",
      "n/---Reporte de frecuencia de enfermedades---\n",
      "-> Migraña: 3 pacientes\n",
      "-> Gripe: 2 pacientes\n",
      "-> Gastritis: 2 pacientes\n",
      "-> Tos Cronica: 1 pacientes\n",
      "-> Alergia: 2 pacientes\n",
      "-> Hipertension: 3 pacientes\n",
      "-> Dolor Cronico: 1 pacientes\n",
      "-> Diabetes Tipo 2: 2 pacientes\n",
      "-> Artritis: 2 pacientes\n",
      "-> Asma: 2 pacientes\n",
      "-> Colesterol Alto: 2 pacientes\n",
      "-> Ansiedad: 1 pacientes\n"
     ]
    }
   ],
   "source": [
    "# Escribe tu código aquí para el Desafío 3.A\n",
    "lista_enfermedades = []\n",
    "lista_cantidades = [] \n",
    "for paciente in datos_pacientes:\n",
    "    print(paciente['enfermedades'])\n",
    "    for enfermedad in paciente['enfermedades']:\n",
    "        if enfermedad in lista_enfermedades:\n",
    "            indice = lista_enfermedades.index(enfermedad)\n",
    "            lista_cantidades[indice] += 1\n",
    "        else:\n",
    "            lista_enfermedades.append(enfermedad)\n",
    "            lista_cantidades.append(1)\n",
    "            \n",
    "print(lista_enfermedades)\n",
    "print(lista_cantidades)\n",
    "print('n/---Reporte de frecuencia de enfermedades---')\n",
    "for i in range(len(lista_enfermedades)):\n",
    "    print(f\"-> {lista_enfermedades[i].title()}: {lista_cantidades[i]} pacientes\")\n",
    "\n"
   ]
  },
  {
   "attachments": {},
   "cell_type": "markdown",
   "metadata": {
    "language": "python"
   },
   "source": [
    "### Desafío 3.B: Reporte de Medicamentos Recetados\n",
    "\n",
    "Repite la lógica del Desafío 3.A, pero esta vez analizando la clave `'medicamentos'`."
   ]
  },
  {
   "cell_type": "code",
   "execution_count": null,
   "metadata": {
    "language": "python"
   },
   "outputs": [
    {
     "name": "stdout",
     "output_type": "stream",
     "text": [
      "['acetaminofen', 'ibuprofeno']\n"
     ]
    },
    {
     "ename": "NameError",
     "evalue": "name 'medicamento' is not defined",
     "output_type": "error",
     "traceback": [
      "\u001b[31m---------------------------------------------------------------------------\u001b[39m",
      "\u001b[31mNameError\u001b[39m                                 Traceback (most recent call last)",
      "\u001b[36mCell\u001b[39m\u001b[36m \u001b[39m\u001b[32mIn[28]\u001b[39m\u001b[32m, line 6\u001b[39m\n\u001b[32m      4\u001b[39m \u001b[38;5;28;01mfor\u001b[39;00m paciente \u001b[38;5;129;01min\u001b[39;00m datos_pacientes:\n\u001b[32m      5\u001b[39m     \u001b[38;5;28mprint\u001b[39m(paciente[\u001b[33m'\u001b[39m\u001b[33mmedicamentos\u001b[39m\u001b[33m'\u001b[39m])\n\u001b[32m----> \u001b[39m\u001b[32m6\u001b[39m     \u001b[38;5;28;01mif\u001b[39;00m \u001b[38;5;129;01mnot\u001b[39;00m \u001b[43mmedicamento\u001b[49m \u001b[38;5;129;01min\u001b[39;00m lista_medicamentos:\n\u001b[32m      7\u001b[39m         lista_medicamentos.append(medicamento)\n\u001b[32m      8\u001b[39m         lista_cantidades_medicamentos.append(\u001b[32m1\u001b[39m)\n",
      "\u001b[31mNameError\u001b[39m: name 'medicamento' is not defined"
     ]
    },
    {
     "name": "stdout",
     "output_type": "stream",
     "text": [
      "['acetaminofen', 'ibuprofeno']\n"
     ]
    },
    {
     "ename": "NameError",
     "evalue": "name 'medicamento' is not defined",
     "output_type": "error",
     "traceback": [
      "\u001b[31m---------------------------------------------------------------------------\u001b[39m",
      "\u001b[31mNameError\u001b[39m                                 Traceback (most recent call last)",
      "\u001b[36mCell\u001b[39m\u001b[36m \u001b[39m\u001b[32mIn[31]\u001b[39m\u001b[32m, line 6\u001b[39m\n\u001b[32m      4\u001b[39m \u001b[38;5;28;01mfor\u001b[39;00m paciente \u001b[38;5;129;01min\u001b[39;00m datos_pacientes:\n\u001b[32m      5\u001b[39m     \u001b[38;5;28mprint\u001b[39m(paciente[\u001b[33m'\u001b[39m\u001b[33mmedicamentos\u001b[39m\u001b[33m'\u001b[39m])\n\u001b[32m----> \u001b[39m\u001b[32m6\u001b[39m     \u001b[38;5;28;01mif\u001b[39;00m \u001b[43mmedicamento\u001b[49m \u001b[38;5;129;01mnot\u001b[39;00m \u001b[38;5;129;01min\u001b[39;00m lista_medicamentos:\n\u001b[32m      7\u001b[39m         lista_medicamentos.append(medicamento)\n\u001b[32m      8\u001b[39m         lista_cantidades_medicamentos.append(\u001b[32m1\u001b[39m)\n",
      "\u001b[31mNameError\u001b[39m: name 'medicamento' is not defined"
     ]
    }
   ],
   "source": [
    "# Escribe tu código aquí para el Desafío 3.B\n",
    "lista_medicamentos = []\n",
    "lista_cantidades_medicamentos = []\n",
    "for paciente in datos_pacientes:\n",
    "    print(paciente['medicamentos'])\n",
    "    if medicamento not in lista_medicamentos:\n",
    "        lista_medicamentos.append(medicamento)\n",
    "        lista_cantidades_medicamentos.append(1)\n",
    "    else:   \n",
    "        indice = lista_medicamentos.index(medicamento)\n",
    "        lista_cantidades_medicamentos[indice] += 1\n",
    "    for medicamento in paciente['medicamentos']:\n",
    "        \n",
    "        indice = lista_medicamentos.index(medicamento) \n",
    "        lista_cantidades_medicamentos[indice] += 1\n",
    "\n",
    "print(f\"Lista de medicamentos recetados: {lista_medicamentos}\")\n",
    "print(f\"Cantidad de pacientes por medicamento: {lista_cantidades_medicamentos}\")\n",
    "print('\\n---Reporte de frecuencia de medicamentos recetados---')    "
   ]
  },
  {
   "cell_type": "markdown",
   "metadata": {},
   "source": [
    "--- \n",
    "## FASE 4: Ingeniería de Datos - Comparación de Historias ⚙️\n",
    "\n",
    "¡Nivel Avanzado! Vas a simular una herramienta de comparación de historiales. Debes buscar dos pacientes por cédula y encontrar qué tienen en común."
   ]
  },
  {
   "attachments": {},
   "cell_type": "markdown",
   "metadata": {
    "language": "python"
   },
   "source": [
    "### Desafío 4.A: Elementos en Común\n",
    "\n",
    "**Instrucciones:**\n",
    "1. Pide la cédula (clave `'cedula'`) de dos pacientes.\n",
    "2. **Recorre la lista principal** (`datos_pacientes`) para encontrar los diccionarios de ambos pacientes y asigna sus listas de `'enfermedades'` y `'medicamentos'` a variables temporales.\n",
    "3. Usa bucles `for` y `if...in` para encontrar y mostrar los elementos que se repiten en las listas de ambos pacientes.\n",
    "\n",
    "**Prueba con:**\n",
    "```\n",
    "Cédula 1: 89076541\n",
    "Cédula 2: 45522221\n",
    "Resultado Esperado: Enfermedades en común: ['migraña'], Medicamentos en común: ['acetaminofen']\n",
    "```"
   ]
  },
  {
   "cell_type": "code",
   "execution_count": null,
   "metadata": {
    "language": "python",
    "tags": []
   },
   "outputs": [
    {
     "name": "stdout",
     "output_type": "stream",
     "text": [
      "las enfermedades que tienen en común son: []\n"
     ]
    }
   ],
   "source": [
    "# Escribe tu código aquí para el Desafío 4.A\n",
    "cedula1 = input(\"ingrese la cedula del primer paciente ejemplo 89076541: \")\n",
    "cedula2 = input(\"Ingrese la cedula del segundo paciente ejemplo 45522221: \")\n",
    "enfermedad_p1 = []  "
   ]
  },
  {
   "cell_type": "code",
   "execution_count": null,
   "metadata": {},
   "outputs": [],
   "source": []
  },
  {
   "attachments": {},
   "cell_type": "markdown",
   "metadata": {
    "language": "python"
   },
   "source": [
    "## Desafío Final: Arte y Matemáticas - Reflexión 🎨📊\n",
    "\n",
    "Has analizado con éxito datos complejos. Es momento de reflexionar:\n",
    "\n",
    "### Preguntas de Reflexión:\n",
    "\n",
    "- ¿Qué diferencia notaste entre trabajar con la lista simple (Fase 1) y los diccionarios (Fase 3)?\n",
    "- ¿Qué patrón de salud general sugiere la enfermedad más frecuente?\n",
    "- Si pudieras hacer este reto con una herramienta más avanzada, ¿qué otra variable analizarías (por ejemplo: Edad promedio de pacientes con Hipertensión)?"
   ]
  }
 ],
 "metadata": {
  "kernelspec": {
   "display_name": "Python 3",
   "language": "python",
   "name": "python3"
  },
  "language_info": {
   "codemirror_mode": {
    "name": "ipython",
    "version": 3
   },
   "file_extension": ".py",
   "mimetype": "text/x-python",
   "name": "python",
   "nbconvert_exporter": "python",
   "pygments_lexer": "ipython3",
   "version": "3.13.7"
  }
 },
 "nbformat": 4,
 "nbformat_minor": 2
}
